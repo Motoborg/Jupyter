{
 "cells": [
  {
   "cell_type": "code",
   "execution_count": 1,
   "id": "9ce2a879",
   "metadata": {},
   "outputs": [],
   "source": [
    "import pandas as pd"
   ]
  },
  {
   "cell_type": "code",
   "execution_count": 2,
   "id": "1a57f049",
   "metadata": {},
   "outputs": [],
   "source": [
    "melb_data = pd.read_csv('data/melb_data_ps.csv', sep=',')\n",
    "# melb_data.head()\n",
    "melb_df = melb_data.copy()\n",
    "# melb_df.head()"
   ]
  },
  {
   "cell_type": "markdown",
   "id": "d9d00eee",
   "metadata": {},
   "source": [
    "## Удаление лишних столбцов"
   ]
  },
  {
   "cell_type": "code",
   "execution_count": 3,
   "id": "ac6e8cd1",
   "metadata": {},
   "outputs": [],
   "source": [
    "melb_df = melb_df.drop(['index', 'Coordinates'], axis = 1)\n",
    "# melb_df.drop(['index','Coordinates'],axis=1,inplace=True) # Альтернативный вариант\n",
    "# melb_df.head()"
   ]
  },
  {
   "cell_type": "code",
   "execution_count": 4,
   "id": "e5c8c365",
   "metadata": {},
   "outputs": [],
   "source": [
    "total_rooms = melb_df['Rooms'] + melb_df['Bedroom'] + melb_df['Bathroom']\n",
    "# display(total_rooms)"
   ]
  },
  {
   "cell_type": "markdown",
   "id": "2462bbbd",
   "metadata": {},
   "source": [
    "## Введение нового признака (столбца)"
   ]
  },
  {
   "cell_type": "code",
   "execution_count": 5,
   "id": "65854d81",
   "metadata": {},
   "outputs": [],
   "source": [
    "melb_df['MeanRoomsSquare'] = melb_df['BuildingArea'] / total_rooms\n",
    "# display(melb_df['MeanRoomsSquare'])"
   ]
  },
  {
   "cell_type": "code",
   "execution_count": 6,
   "id": "25e01390",
   "metadata": {},
   "outputs": [],
   "source": [
    "diff_area = melb_df['BuildingArea'] - melb_df['Landsize']\n",
    "sum_area = melb_df['BuildingArea'] + melb_df['Landsize']\n",
    "melb_df['AreaRatio'] = diff_area/sum_area\n",
    "# display(melb_df['AreaRatio'])"
   ]
  },
  {
   "cell_type": "markdown",
   "id": "33bf1565",
   "metadata": {},
   "source": [
    "## Задание 2.4"
   ]
  },
  {
   "cell_type": "code",
   "execution_count": 7,
   "id": "dae8f7c9",
   "metadata": {},
   "outputs": [
    {
     "data": {
      "text/plain": [
       "84.93"
      ]
     },
     "execution_count": 7,
     "metadata": {},
     "output_type": "execute_result"
    }
   ],
   "source": [
    "countries_df = pd.DataFrame({\n",
    "    'country': ['Англия', 'Канада', 'США', 'Россия', 'Украина', 'Беларусь', 'Казахстан'],\n",
    "    'population': [56.29, 38.05, 322.28, 146.24, 45.5, 9.5, 17.04],\n",
    "    'square': [133396, 9984670, 9826630, 17125191, 603628, 207600, 2724902]\n",
    "})\n",
    "#\n",
    "# Cредняя плотность населения страны\n",
    "#\n",
    "Population_density = round((1e+6*countries_df['population'] / countries_df['square']).mean(), 2)\n",
    "Population_density"
   ]
  },
  {
   "cell_type": "markdown",
   "id": "702b7846",
   "metadata": {},
   "source": [
    "## Преобразуем столбец Date в формат datetime"
   ]
  },
  {
   "cell_type": "code",
   "execution_count": 8,
   "id": "603b15db",
   "metadata": {},
   "outputs": [],
   "source": [
    "melb_df['Date'] = pd.to_datetime(melb_df['Date'], dayfirst=True)\n",
    "# display(melb_df['Date'])"
   ]
  },
  {
   "cell_type": "markdown",
   "id": "08340205",
   "metadata": {},
   "source": [
    "### Тип данных datetime позволяет с помощью специального аксессора dt выделять составляющие времени из каждого элемента столбца, такие как:\n",
    "\n",
    "* date — дата;                                                                    \n",
    "* year, month, day — год, месяц, день;\n",
    "* time — время;\n",
    "* hour, minute, second — час, минута, секунда;  \n",
    "* dayofweek — номер дня недели, от 0 до 6, где 0 — понедельник, 6 — воскресенье;\n",
    "* day_name — название дня недели;\n",
    "* dayofyear — порядковый день года;\n",
    "* quarter — квартал (интервал в три месяца)."
   ]
  },
  {
   "cell_type": "code",
   "execution_count": 9,
   "id": "4590c6f3",
   "metadata": {},
   "outputs": [
    {
     "name": "stdout",
     "output_type": "stream",
     "text": [
      "Min year sold: 2016\n",
      "Max year sold: 2017\n",
      "Mode year sold: 2017\n"
     ]
    }
   ],
   "source": [
    "years_sold = melb_df['Date'].dt.year\n",
    "# print(years_sold)\n",
    "print('Min year sold:', years_sold.min())\n",
    "print('Max year sold:', years_sold.max())\n",
    "print('Mode year sold:', years_sold.mode()[0])"
   ]
  },
  {
   "cell_type": "markdown",
   "id": "0d43b5a2",
   "metadata": {},
   "source": [
    "**Относительная частота продаж для каждого месяца от общего количества продаж**"
   ]
  },
  {
   "cell_type": "code",
   "execution_count": 10,
   "id": "f9841a71",
   "metadata": {},
   "outputs": [
    {
     "data": {
      "text/plain": [
       "5     0.149411\n",
       "7     0.145950\n",
       "9     0.135862\n",
       "6     0.134757\n",
       "8     0.114138\n",
       "11    0.082032\n",
       "4     0.069882\n",
       "3     0.049926\n",
       "12    0.044698\n",
       "10    0.040574\n",
       "2     0.032622\n",
       "1     0.000147\n",
       "Name: MonthSale, dtype: float64"
      ]
     },
     "execution_count": 10,
     "metadata": {},
     "output_type": "execute_result"
    }
   ],
   "source": [
    "melb_df['MonthSale'] = melb_df['Date'].dt.month\n",
    "melb_df['MonthSale'].value_counts(normalize=True)"
   ]
  },
  {
   "cell_type": "markdown",
   "id": "6f216cf9",
   "metadata": {},
   "source": [
    "### Вычисление интервала между двумя временными промежутками"
   ]
  },
  {
   "cell_type": "code",
   "execution_count": 11,
   "id": "bb1017c3",
   "metadata": {},
   "outputs": [],
   "source": [
    "delta_days = melb_df['Date'] - pd.to_datetime('2016-01-01') \n",
    "# display(delta_days)"
   ]
  },
  {
   "cell_type": "code",
   "execution_count": 12,
   "id": "75c02bbe",
   "metadata": {},
   "outputs": [],
   "source": [
    "# display(delta_days.dt.days)  # Вывод в формате просто количество дней"
   ]
  },
  {
   "cell_type": "code",
   "execution_count": 13,
   "id": "aad702dd",
   "metadata": {},
   "outputs": [],
   "source": [
    "# Возраст объекта на момент продажи\n",
    "#\n",
    "melb_df['AgeBuilding'] = melb_df['Date'].dt.year - melb_df['YearBuilt']\n",
    "# display(melb_df['AgeBuilding'])"
   ]
  },
  {
   "cell_type": "code",
   "execution_count": 14,
   "id": "a094bf87",
   "metadata": {},
   "outputs": [],
   "source": [
    "melb_df = melb_df.drop('YearBuilt', axis=1)"
   ]
  },
  {
   "cell_type": "markdown",
   "id": "91dce476",
   "metadata": {},
   "source": [
    "### Cколько объектов недвижимости было продано в выходные (суббота и воскресенье)"
   ]
  },
  {
   "cell_type": "code",
   "execution_count": 15,
   "id": "86db1f70",
   "metadata": {},
   "outputs": [],
   "source": [
    "melb_df['WeekdaySale'] = melb_df['Date'].dt.dayofweek\n",
    "# melb_df.head()"
   ]
  },
  {
   "cell_type": "code",
   "execution_count": 16,
   "id": "73d860db",
   "metadata": {},
   "outputs": [
    {
     "data": {
      "text/plain": [
       "12822"
      ]
     },
     "execution_count": 16,
     "metadata": {},
     "output_type": "execute_result"
    }
   ],
   "source": [
    "mask_1 = melb_df['WeekdaySale']== 5\n",
    "mask_2 = melb_df['WeekdaySale']== 6\n",
    "# weekend_count = \n",
    "melb_df[mask_1 | mask_2]['WeekdaySale'].shape[0]"
   ]
  },
  {
   "cell_type": "markdown",
   "id": "0dac1aa0",
   "metadata": {},
   "source": [
    "# ВЫПОЛНЕНИЯ ЗАДАНИЙ 3.4-3.5\n",
    "* \"City\" — город, где был замечен НЛО;\n",
    "* \"Colors Reported\" — цвет объекта;\n",
    "* \"Shape Reported\" — форма объекта;\n",
    "* \"State\" — обозначение штата;\n",
    "* \"Time\" — время, когда был замечен НЛО (данные отсортированы от старых наблюдений к новым). "
   ]
  },
  {
   "cell_type": "code",
   "execution_count": 17,
   "id": "52053cd0",
   "metadata": {},
   "outputs": [
    {
     "data": {
      "text/html": [
       "<div>\n",
       "<style scoped>\n",
       "    .dataframe tbody tr th:only-of-type {\n",
       "        vertical-align: middle;\n",
       "    }\n",
       "\n",
       "    .dataframe tbody tr th {\n",
       "        vertical-align: top;\n",
       "    }\n",
       "\n",
       "    .dataframe thead th {\n",
       "        text-align: right;\n",
       "    }\n",
       "</style>\n",
       "<table border=\"1\" class=\"dataframe\">\n",
       "  <thead>\n",
       "    <tr style=\"text-align: right;\">\n",
       "      <th></th>\n",
       "      <th>City</th>\n",
       "      <th>Colors Reported</th>\n",
       "      <th>Shape Reported</th>\n",
       "      <th>State</th>\n",
       "      <th>Time</th>\n",
       "    </tr>\n",
       "  </thead>\n",
       "  <tbody>\n",
       "    <tr>\n",
       "      <th>0</th>\n",
       "      <td>Ithaca</td>\n",
       "      <td>NaN</td>\n",
       "      <td>TRIANGLE</td>\n",
       "      <td>NY</td>\n",
       "      <td>6/1/1930 22:00</td>\n",
       "    </tr>\n",
       "    <tr>\n",
       "      <th>1</th>\n",
       "      <td>Willingboro</td>\n",
       "      <td>NaN</td>\n",
       "      <td>OTHER</td>\n",
       "      <td>NJ</td>\n",
       "      <td>6/30/1930 20:00</td>\n",
       "    </tr>\n",
       "    <tr>\n",
       "      <th>2</th>\n",
       "      <td>Holyoke</td>\n",
       "      <td>NaN</td>\n",
       "      <td>OVAL</td>\n",
       "      <td>CO</td>\n",
       "      <td>2/15/1931 14:00</td>\n",
       "    </tr>\n",
       "    <tr>\n",
       "      <th>3</th>\n",
       "      <td>Abilene</td>\n",
       "      <td>NaN</td>\n",
       "      <td>DISK</td>\n",
       "      <td>KS</td>\n",
       "      <td>6/1/1931 13:00</td>\n",
       "    </tr>\n",
       "    <tr>\n",
       "      <th>4</th>\n",
       "      <td>New York Worlds Fair</td>\n",
       "      <td>NaN</td>\n",
       "      <td>LIGHT</td>\n",
       "      <td>NY</td>\n",
       "      <td>4/18/1933 19:00</td>\n",
       "    </tr>\n",
       "  </tbody>\n",
       "</table>\n",
       "</div>"
      ],
      "text/plain": [
       "                   City Colors Reported Shape Reported State             Time\n",
       "0                Ithaca             NaN       TRIANGLE    NY   6/1/1930 22:00\n",
       "1           Willingboro             NaN          OTHER    NJ  6/30/1930 20:00\n",
       "2               Holyoke             NaN           OVAL    CO  2/15/1931 14:00\n",
       "3               Abilene             NaN           DISK    KS   6/1/1931 13:00\n",
       "4  New York Worlds Fair             NaN          LIGHT    NY  4/18/1933 19:00"
      ]
     },
     "execution_count": 17,
     "metadata": {},
     "output_type": "execute_result"
    }
   ],
   "source": [
    "ufo_data = pd.read_csv('data/ufo.csv', sep=',')\n",
    "ufo_data.head()"
   ]
  },
  {
   "cell_type": "markdown",
   "id": "24e2ad60",
   "metadata": {},
   "source": [
    "### В каком году отмечается наибольшее количество случаев наблюдения НЛО в США?"
   ]
  },
  {
   "cell_type": "code",
   "execution_count": 18,
   "id": "25ff8836",
   "metadata": {},
   "outputs": [
    {
     "data": {
      "text/plain": [
       "0    1999\n",
       "dtype: int64"
      ]
     },
     "execution_count": 18,
     "metadata": {},
     "output_type": "execute_result"
    }
   ],
   "source": [
    "ufo_data['Time'] = pd.to_datetime(ufo_data['Time'], dayfirst=False)\n",
    "# .dt.year\n",
    "ufo_data['Time'].dt.year.mode()"
   ]
  },
  {
   "cell_type": "markdown",
   "id": "97bc7ee3",
   "metadata": {},
   "source": [
    "### Cредний интервал времени (в днях) между двумя последовательными случаями наблюдения НЛО в штате Невада (NV)"
   ]
  },
  {
   "cell_type": "code",
   "execution_count": 19,
   "id": "fe88c6ba",
   "metadata": {},
   "outputs": [
    {
     "data": {
      "text/plain": [
       "69"
      ]
     },
     "execution_count": 19,
     "metadata": {},
     "output_type": "execute_result"
    }
   ],
   "source": [
    "mask = ufo_data['State' ]== 'NV'\n",
    "timedelta = ufo_data[mask]['Time'].dt.date.diff()\n",
    "round(timedelta.dt.days.mean())"
   ]
  },
  {
   "cell_type": "markdown",
   "id": "7ff7ecf9",
   "metadata": {},
   "source": [
    "# Создание и преобразование столбцов с помощью функций"
   ]
  },
  {
   "cell_type": "code",
   "execution_count": 20,
   "id": "17689e43",
   "metadata": {},
   "outputs": [],
   "source": [
    "# На вход данной функции поступает строка с адресом.\n",
    "def get_street_type(address):\n",
    "# Создаём список географических пометок exclude_list.\n",
    "    exclude_list = ['N', 'S', 'W', 'E']\n",
    "# Метод split() разбивает строку на слова по пробелу.\n",
    "# В результате получаем список слов в строке и заносим его в переменную address_list.\n",
    "    address_list = address.split(' ')\n",
    "# Обрезаем список, оставляя в нём только последний элемент,\n",
    "# потенциальный подтип улицы, и заносим в переменную street_type.\n",
    "    street_type = address_list[-1]\n",
    "# Делаем проверку на то, что полученный подтип является географической пометкой.\n",
    "# Для этого проверяем его на наличие в списке exclude_list.\n",
    "    if street_type in exclude_list:\n",
    "# Если переменная street_type является географической пометкой,\n",
    "# переопределяем её на второй элемент с конца списка address_list.\n",
    "        street_type = address_list[-2]\n",
    "# Возвращаем переменную street_type, в которой хранится подтип улицы.\n",
    "    return street_type"
   ]
  },
  {
   "cell_type": "code",
   "execution_count": 39,
   "id": "aa58a021",
   "metadata": {},
   "outputs": [],
   "source": [
    "street_types = melb_df['Address'].apply(get_street_type)\n",
    "# display(street_types)"
   ]
  },
  {
   "cell_type": "code",
   "execution_count": 40,
   "id": "73d85d41",
   "metadata": {},
   "outputs": [],
   "source": [
    "# nlargest(), который возвращает n наибольших значений из Series\n",
    "#\n",
    "# melb_df['StreetType'] = street_types.apply(lambda x: x = 'St' if x == 'Strand')\n",
    "popular_stypes =street_types.value_counts().nlargest(50).index\n",
    "# print(popular_stypes)"
   ]
  },
  {
   "cell_type": "code",
   "execution_count": 41,
   "id": "4d70c7e0",
   "metadata": {},
   "outputs": [],
   "source": [
    "melb_df['StreetType'] = street_types.apply(lambda x: x if x in popular_stypes else 'other')\n",
    "# display(melb_df['StreetType'].head())\n",
    "# print('Уникальных записей - ', melb_df['StreetType'].nunique())"
   ]
  },
  {
   "cell_type": "markdown",
   "id": "f8146046",
   "metadata": {},
   "source": [
    "**Функция get_weekend(weekday), принимает на вход элемент столбца WeekdaySale и возвращает 1, если день является выходным, и 0 — в противном случае, и создайте столбец Weekend в таблице melb_df с помощью неё.**"
   ]
  },
  {
   "cell_type": "code",
   "execution_count": 24,
   "id": "0779110c",
   "metadata": {},
   "outputs": [],
   "source": [
    "def get_weekend(weekday):\n",
    "    if weekday == 5 or weekday == 6:\n",
    "        return 1\n",
    "    else:\n",
    "        return 0\n",
    "    \n",
    "# display(get_weekend(1))    \n",
    "# display(get_weekend(6)) \n",
    "# display(get_weekend(5)) "
   ]
  },
  {
   "cell_type": "code",
   "execution_count": 25,
   "id": "ae48509e",
   "metadata": {},
   "outputs": [
    {
     "data": {
      "text/html": [
       "<div>\n",
       "<style scoped>\n",
       "    .dataframe tbody tr th:only-of-type {\n",
       "        vertical-align: middle;\n",
       "    }\n",
       "\n",
       "    .dataframe tbody tr th {\n",
       "        vertical-align: top;\n",
       "    }\n",
       "\n",
       "    .dataframe thead th {\n",
       "        text-align: right;\n",
       "    }\n",
       "</style>\n",
       "<table border=\"1\" class=\"dataframe\">\n",
       "  <thead>\n",
       "    <tr style=\"text-align: right;\">\n",
       "      <th></th>\n",
       "      <th>Suburb</th>\n",
       "      <th>Address</th>\n",
       "      <th>Rooms</th>\n",
       "      <th>Type</th>\n",
       "      <th>Price</th>\n",
       "      <th>Method</th>\n",
       "      <th>SellerG</th>\n",
       "      <th>Date</th>\n",
       "      <th>Distance</th>\n",
       "      <th>Postcode</th>\n",
       "      <th>...</th>\n",
       "      <th>Longtitude</th>\n",
       "      <th>Regionname</th>\n",
       "      <th>Propertycount</th>\n",
       "      <th>MeanRoomsSquare</th>\n",
       "      <th>AreaRatio</th>\n",
       "      <th>MonthSale</th>\n",
       "      <th>AgeBuilding</th>\n",
       "      <th>WeekdaySale</th>\n",
       "      <th>StreetType</th>\n",
       "      <th>Weekend</th>\n",
       "    </tr>\n",
       "  </thead>\n",
       "  <tbody>\n",
       "    <tr>\n",
       "      <th>0</th>\n",
       "      <td>Abbotsford</td>\n",
       "      <td>85 Turner St</td>\n",
       "      <td>2</td>\n",
       "      <td>h</td>\n",
       "      <td>1480000.0</td>\n",
       "      <td>S</td>\n",
       "      <td>Biggin</td>\n",
       "      <td>2016-12-03</td>\n",
       "      <td>2.5</td>\n",
       "      <td>3067</td>\n",
       "      <td>...</td>\n",
       "      <td>144.9984</td>\n",
       "      <td>Northern Metropolitan</td>\n",
       "      <td>4019</td>\n",
       "      <td>25.20</td>\n",
       "      <td>-0.231707</td>\n",
       "      <td>12</td>\n",
       "      <td>46</td>\n",
       "      <td>5</td>\n",
       "      <td>St</td>\n",
       "      <td>1</td>\n",
       "    </tr>\n",
       "    <tr>\n",
       "      <th>1</th>\n",
       "      <td>Abbotsford</td>\n",
       "      <td>25 Bloomburg St</td>\n",
       "      <td>2</td>\n",
       "      <td>h</td>\n",
       "      <td>1035000.0</td>\n",
       "      <td>S</td>\n",
       "      <td>Biggin</td>\n",
       "      <td>2016-02-04</td>\n",
       "      <td>2.5</td>\n",
       "      <td>3067</td>\n",
       "      <td>...</td>\n",
       "      <td>144.9934</td>\n",
       "      <td>Northern Metropolitan</td>\n",
       "      <td>4019</td>\n",
       "      <td>15.80</td>\n",
       "      <td>-0.327660</td>\n",
       "      <td>2</td>\n",
       "      <td>116</td>\n",
       "      <td>3</td>\n",
       "      <td>St</td>\n",
       "      <td>0</td>\n",
       "    </tr>\n",
       "    <tr>\n",
       "      <th>2</th>\n",
       "      <td>Abbotsford</td>\n",
       "      <td>5 Charles St</td>\n",
       "      <td>3</td>\n",
       "      <td>h</td>\n",
       "      <td>1465000.0</td>\n",
       "      <td>SP</td>\n",
       "      <td>Biggin</td>\n",
       "      <td>2017-03-04</td>\n",
       "      <td>2.5</td>\n",
       "      <td>3067</td>\n",
       "      <td>...</td>\n",
       "      <td>144.9944</td>\n",
       "      <td>Northern Metropolitan</td>\n",
       "      <td>4019</td>\n",
       "      <td>18.75</td>\n",
       "      <td>0.056338</td>\n",
       "      <td>3</td>\n",
       "      <td>117</td>\n",
       "      <td>5</td>\n",
       "      <td>St</td>\n",
       "      <td>1</td>\n",
       "    </tr>\n",
       "    <tr>\n",
       "      <th>3</th>\n",
       "      <td>Abbotsford</td>\n",
       "      <td>40 Federation La</td>\n",
       "      <td>3</td>\n",
       "      <td>h</td>\n",
       "      <td>850000.0</td>\n",
       "      <td>PI</td>\n",
       "      <td>Biggin</td>\n",
       "      <td>2017-03-04</td>\n",
       "      <td>2.5</td>\n",
       "      <td>3067</td>\n",
       "      <td>...</td>\n",
       "      <td>144.9969</td>\n",
       "      <td>Northern Metropolitan</td>\n",
       "      <td>4019</td>\n",
       "      <td>15.75</td>\n",
       "      <td>0.145455</td>\n",
       "      <td>3</td>\n",
       "      <td>47</td>\n",
       "      <td>5</td>\n",
       "      <td>La</td>\n",
       "      <td>1</td>\n",
       "    </tr>\n",
       "    <tr>\n",
       "      <th>4</th>\n",
       "      <td>Abbotsford</td>\n",
       "      <td>55a Park St</td>\n",
       "      <td>4</td>\n",
       "      <td>h</td>\n",
       "      <td>1600000.0</td>\n",
       "      <td>VB</td>\n",
       "      <td>Nelson</td>\n",
       "      <td>2016-06-04</td>\n",
       "      <td>2.5</td>\n",
       "      <td>3067</td>\n",
       "      <td>...</td>\n",
       "      <td>144.9941</td>\n",
       "      <td>Northern Metropolitan</td>\n",
       "      <td>4019</td>\n",
       "      <td>17.75</td>\n",
       "      <td>0.083969</td>\n",
       "      <td>6</td>\n",
       "      <td>2</td>\n",
       "      <td>5</td>\n",
       "      <td>St</td>\n",
       "      <td>1</td>\n",
       "    </tr>\n",
       "  </tbody>\n",
       "</table>\n",
       "<p>5 rows × 27 columns</p>\n",
       "</div>"
      ],
      "text/plain": [
       "       Suburb           Address  Rooms Type      Price Method SellerG  \\\n",
       "0  Abbotsford      85 Turner St      2    h  1480000.0      S  Biggin   \n",
       "1  Abbotsford   25 Bloomburg St      2    h  1035000.0      S  Biggin   \n",
       "2  Abbotsford      5 Charles St      3    h  1465000.0     SP  Biggin   \n",
       "3  Abbotsford  40 Federation La      3    h   850000.0     PI  Biggin   \n",
       "4  Abbotsford       55a Park St      4    h  1600000.0     VB  Nelson   \n",
       "\n",
       "        Date  Distance  Postcode  ...  Longtitude             Regionname  \\\n",
       "0 2016-12-03       2.5      3067  ...    144.9984  Northern Metropolitan   \n",
       "1 2016-02-04       2.5      3067  ...    144.9934  Northern Metropolitan   \n",
       "2 2017-03-04       2.5      3067  ...    144.9944  Northern Metropolitan   \n",
       "3 2017-03-04       2.5      3067  ...    144.9969  Northern Metropolitan   \n",
       "4 2016-06-04       2.5      3067  ...    144.9941  Northern Metropolitan   \n",
       "\n",
       "   Propertycount  MeanRoomsSquare  AreaRatio MonthSale  AgeBuilding  \\\n",
       "0           4019            25.20  -0.231707        12           46   \n",
       "1           4019            15.80  -0.327660         2          116   \n",
       "2           4019            18.75   0.056338         3          117   \n",
       "3           4019            15.75   0.145455         3           47   \n",
       "4           4019            17.75   0.083969         6            2   \n",
       "\n",
       "   WeekdaySale StreetType  Weekend  \n",
       "0            5         St        1  \n",
       "1            3         St        0  \n",
       "2            5         St        1  \n",
       "3            5         La        1  \n",
       "4            5         St        1  \n",
       "\n",
       "[5 rows x 27 columns]"
      ]
     },
     "execution_count": 25,
     "metadata": {},
     "output_type": "execute_result"
    }
   ],
   "source": [
    "sale_weekend = melb_df['WeekdaySale'].apply(get_weekend)\n",
    "sale_weekend\n",
    "\n",
    "melb_df['Weekend'] = sale_weekend\n",
    "melb_df.head()"
   ]
  },
  {
   "cell_type": "code",
   "execution_count": 26,
   "id": "92eae28c",
   "metadata": {},
   "outputs": [
    {
     "data": {
      "text/plain": [
       "1081199"
      ]
     },
     "execution_count": 26,
     "metadata": {},
     "output_type": "execute_result"
    }
   ],
   "source": [
    "mask_weekend = melb_df['Weekend'] == 1\n",
    "Price_weekend = melb_df[mask_weekend]['Price'].mean()\n",
    "round(Price_weekend)"
   ]
  },
  {
   "cell_type": "markdown",
   "id": "ce99e0cc",
   "metadata": {},
   "source": [
    "   **Преобразуйте столбец SellerG с наименованиями риелторских компаний в таблице melb_df следующим образом: оставьте в столбце только 49 самых популярных компаний, а остальные обозначьте как 'other'.**\n",
    "\n",
    "   **Найдите, во сколько раз минимальная цена объектов недвижимости, проданных компанией 'Nelson', больше минимальной цены объектов, проданных компаниями, обозначенными как 'other'. Ответ округлите до десятых.**"
   ]
  },
  {
   "cell_type": "code",
   "execution_count": 27,
   "id": "0d5df685",
   "metadata": {},
   "outputs": [],
   "source": [
    "popular_seller = melb_df['SellerG'].value_counts().nlargest(49).index\n",
    "# print(popular_seller)"
   ]
  },
  {
   "cell_type": "code",
   "execution_count": 28,
   "id": "5a85f8f3",
   "metadata": {},
   "outputs": [],
   "source": [
    "melb_df['SellerG'] = melb_df['SellerG'].apply(lambda x: x if x in popular_seller else 'other')\n",
    "# display(melb_df['SellerG'])"
   ]
  },
  {
   "cell_type": "code",
   "execution_count": 29,
   "id": "994ccf72",
   "metadata": {},
   "outputs": [
    {
     "data": {
      "text/plain": [
       "1.3"
      ]
     },
     "execution_count": 29,
     "metadata": {},
     "output_type": "execute_result"
    }
   ],
   "source": [
    "price_other = melb_df[melb_df['SellerG'] == 'other']['Price'].min()\n",
    "price_Nelson = melb_df[melb_df['SellerG'] == 'Nelson']['Price'].min()\n",
    "multyplay_minprice = price_other/price_Nelson\n",
    "round(1/multyplay_minprice, 1)"
   ]
  },
  {
   "cell_type": "code",
   "execution_count": 30,
   "id": "793aab92",
   "metadata": {},
   "outputs": [],
   "source": [
    "# создаём пустой список\n",
    "unique_list = []\n",
    "# пробегаемся по именам столбцов в таблице\n",
    "for col in melb_df.columns:\n",
    "    # создаём кортеж (имя столбца, число уникальных значений)\n",
    "    item = (col, melb_df[col].nunique(),melb_df[col].dtype) \n",
    "    # добавляем кортеж в список\n",
    "    unique_list.append(item) \n",
    "# создаём вспомогательную таблицу и сортируем её\n",
    "unique_counts = pd.DataFrame(\n",
    "    unique_list,\n",
    "    columns=['Column_Name', 'Num_Unique', 'Type']\n",
    ").sort_values(by='Num_Unique',  ignore_index=True)\n",
    "# выводим её на экран\n",
    "# display(unique_counts)"
   ]
  },
  {
   "cell_type": "code",
   "execution_count": 31,
   "id": "e769000f",
   "metadata": {},
   "outputs": [],
   "source": [
    "# display(melb_df.info())"
   ]
  },
  {
   "cell_type": "code",
   "execution_count": 32,
   "id": "c429faf7",
   "metadata": {},
   "outputs": [],
   "source": [
    "cols_to_exclude = ['Date', 'Rooms', 'Bedroom', 'Bathroom', 'Car'] # список столбцов, которые мы не берём во внимание\n",
    "max_unique_count = 150 # задаём максимальное число уникальных категорий\n",
    "for col in melb_df.columns: # цикл по именам столбцов\n",
    "    if melb_df[col].nunique() < max_unique_count and col not in cols_to_exclude: # проверяем условие\n",
    "        melb_df[col] = melb_df[col].astype('category') # преобразуем тип столбца\n",
    "# display(melb_df.info())"
   ]
  },
  {
   "cell_type": "code",
   "execution_count": 33,
   "id": "a75f54a5",
   "metadata": {},
   "outputs": [],
   "source": [
    "melb_df['Type'] = melb_df['Type'].cat.rename_categories({\n",
    "    'u': 'unit',\n",
    "    't': 'townhouse',\n",
    "    'h': 'house'\n",
    "})\n",
    "# display(melb_df['Type'])"
   ]
  },
  {
   "cell_type": "code",
   "execution_count": 34,
   "id": "7af2d1b7",
   "metadata": {},
   "outputs": [
    {
     "data": {
      "text/plain": [
       "0     unit\n",
       "1    house\n",
       "2     flat\n",
       "3     flat\n",
       "4    house\n",
       "dtype: category\n",
       "Categories (4, object): ['house', 'townhouse', 'unit', 'flat']"
      ]
     },
     "metadata": {},
     "output_type": "display_data"
    }
   ],
   "source": [
    "melb_df['Type'] = melb_df['Type'].cat.add_categories('flat')\n",
    "new_houses_types = pd.Series(['unit', 'house', 'flat', 'flat', 'house'])\n",
    "new_houses_types = new_houses_types.astype(melb_df['Type'].dtype)\n",
    "display(new_houses_types)"
   ]
  },
  {
   "cell_type": "code",
   "execution_count": 35,
   "id": "a5c3c21b",
   "metadata": {},
   "outputs": [],
   "source": [
    "# display(melb_df.info())"
   ]
  },
  {
   "cell_type": "markdown",
   "id": "3aff1c4f",
   "metadata": {},
   "source": [
    "Преобразуйте признак Suburb следующим образом: оставьте в столбце только 119 наиболее популярных пригородов, остальные замените на 'other'.\n",
    "\n",
    "Приведите данные в столбце Suburb к категориальному типу."
   ]
  },
  {
   "cell_type": "code",
   "execution_count": 36,
   "id": "e00204d8",
   "metadata": {},
   "outputs": [],
   "source": [
    "popular_suburb = melb_df['Suburb'].value_counts().nlargest(119).index\n",
    "# print(popular_suburb)"
   ]
  },
  {
   "cell_type": "code",
   "execution_count": 37,
   "id": "c20a3814",
   "metadata": {},
   "outputs": [],
   "source": [
    "melb_df['Suburb'] = melb_df['Suburb'].apply(lambda x: x if x in popular_suburb else 'other')"
   ]
  },
  {
   "cell_type": "code",
   "execution_count": 38,
   "id": "87bc2572",
   "metadata": {},
   "outputs": [],
   "source": [
    "melb_df['Suburb'] = melb_df['Suburb'].astype('category')\n",
    "# display(melb_df.info())"
   ]
  },
  {
   "cell_type": "code",
   "execution_count": null,
   "id": "0e8baff2",
   "metadata": {},
   "outputs": [],
   "source": []
  },
  {
   "cell_type": "code",
   "execution_count": null,
   "id": "80a21468",
   "metadata": {},
   "outputs": [],
   "source": []
  }
 ],
 "metadata": {
  "kernelspec": {
   "display_name": "Python 3 (ipykernel)",
   "language": "python",
   "name": "python3"
  },
  "language_info": {
   "codemirror_mode": {
    "name": "ipython",
    "version": 3
   },
   "file_extension": ".py",
   "mimetype": "text/x-python",
   "name": "python",
   "nbconvert_exporter": "python",
   "pygments_lexer": "ipython3",
   "version": "3.9.7"
  }
 },
 "nbformat": 4,
 "nbformat_minor": 5
}
