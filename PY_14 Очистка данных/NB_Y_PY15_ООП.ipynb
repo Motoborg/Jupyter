{
 "cells": [
  {
   "cell_type": "code",
   "execution_count": 1,
   "id": "27193a43",
   "metadata": {},
   "outputs": [],
   "source": [
    "# import numpy as np"
   ]
  },
  {
   "cell_type": "code",
   "execution_count": 2,
   "id": "3f7d02c1",
   "metadata": {},
   "outputs": [
    {
     "name": "stdout",
     "output_type": "stream",
     "text": [
      "[1000000, 400000]\n",
      "<bound method DepartmentReport.average_revenue of <__main__.DepartmentReport object at 0x00000281B963BD00>>\n"
     ]
    }
   ],
   "source": [
    " class DepartmentReport():\n",
    "    import numpy as np\n",
    "    def add_revenue(self, amount):\n",
    "        \"\"\"\n",
    "        Метод для добавления выручки отдела в список revenues.\n",
    "        Если атрибута revenues ещё не существует, метод должен создавать пустой список перед добавлением выручки.\n",
    "        \"\"\"\n",
    "        if not hasattr(self, 'revenues'):  \n",
    "            self.revenues = []  \n",
    "        # Добавим текущую выручку  \n",
    "        self.revenues.append(amount)  \n",
    "    \n",
    "    def average_revenue(self):\n",
    "        \"\"\"\n",
    "        Метод возвращает среднюю выручку по отделам.\n",
    "        \"\"\"\n",
    "        mean_revenues  =  np.mean(self.revenues) \n",
    "        return mean_revenues\n",
    " \n",
    "report = DepartmentReport()\n",
    "report.add_revenue(1_000_000)\n",
    "report.add_revenue(400_000)\n",
    "print(report.revenues)\n",
    "# => [1000000, 400000]\n",
    "print(report.average_revenue)\n",
    "# => 700000.0"
   ]
  },
  {
   "cell_type": "code",
   "execution_count": 4,
   "id": "f0aadd1e",
   "metadata": {},
   "outputs": [
    {
     "name": "stdout",
     "output_type": "stream",
     "text": [
      "<bound method DepartmentReport.average_revenue of <__main__.DepartmentReport object at 0x00000281BAD948B0>>\n"
     ]
    }
   ],
   "source": [
    "class DepartmentReport():\n",
    "    import numpy as np\n",
    "    def __init__(self,company):\n",
    "        \"\"\"\n",
    "        Метод инициализации класса. \n",
    "        Создаёт атрибуты revenues и company\n",
    "        \"\"\"\n",
    "        self.revenues = []  \n",
    "        self.company = company\n",
    "    \n",
    "    def add_revenue(self, amount):\n",
    "        \"\"\"\n",
    "        Метод для добавления выручки отдела в список revenues.\n",
    "        Если атрибута revenues ещё не существует, метод должен создавать пустой список перед добавлением выручки.\n",
    "        \"\"\"\n",
    "        self.revenues.append(amount)\n",
    "    \n",
    "    def average_revenue(self):\n",
    "        \"\"\"\n",
    "        Вычисляет average_revenue — среднюю выручку по отделам — округляя до целого.\n",
    "        Метод возвращает строку в формате:\n",
    "        'Average department revenue for <company>: <average_revenue>'\n",
    "        \"\"\"\n",
    "        mean_revenues = round(np.mean(self.revenues))\n",
    "        average = \"Average department revenue for {0}: {1}\".format(self.company, mean_revenues)\n",
    "        return average\n",
    "\n",
    "report = DepartmentReport(\"Danon\")\n",
    "report.add_revenue(1_000_000)\n",
    "report.add_revenue(400_000)\n",
    "\n",
    "print(report.average_revenue)\n",
    "# => Average department revenue for Danon: 700000"
   ]
  },
  {
   "cell_type": "code",
   "execution_count": 5,
   "id": "6ef92383",
   "metadata": {},
   "outputs": [
    {
     "name": "stdout",
     "output_type": "stream",
     "text": [
      "19700\n"
     ]
    }
   ],
   "source": [
    "class User():\n",
    "    def __init__(self, email, password, balance):  \n",
    "        self.email = email  \n",
    "        self.password = password  \n",
    "        self.balance = balance  \n",
    "     \n",
    "    def login(self, email, password):   \n",
    "        if  self.email == email and self.password == password:\n",
    "            # print('True')\n",
    "            return True\n",
    "        else:\n",
    "            # print('False')\n",
    "            return False\n",
    "            \n",
    "    def update_balance(self, amount):\n",
    "        self.balance +=  amount\n",
    "        return self.balance\n",
    "    \n",
    "user = User(\"gosha@roskino.org\", \"qwerty\", 20_000)\n",
    "user.login(\"gosha@roskino.org\", \"qwerty123\")\n",
    "# => False\n",
    "user.login(\"gosha@roskino.org\", \"qwerty\")\n",
    "# => True\n",
    "user.update_balance(200)\n",
    "user.update_balance(-500)\n",
    "print(user.balance)\n",
    "# => 19700"
   ]
  },
  {
   "cell_type": "code",
   "execution_count": 6,
   "id": "65cd6e6a",
   "metadata": {},
   "outputs": [],
   "source": [
    "import statistics \n",
    "import numpy as np\n",
    "  \n",
    "class IntDataFrame():  \n",
    "    def __init__(self, list, fill_value=0):  \n",
    "        # Инициализируем атрибуты  \n",
    "        self.list = list  \n",
    "        self.fill_value = fill_value  \n",
    "        # Заполним пропуски  \n",
    "        self.fill_missed()  \n",
    "        # Конвертируем все элементы в числа  \n",
    "        self.to_int()  \n",
    "          \n",
    "    def fill_missed(self):  \n",
    "        for i, value in enumerate(self.list):  \n",
    "            if value is None or value == '':  \n",
    "                self.column[i] = self.fill_value  \n",
    "                  \n",
    "    def to_int(self):  \n",
    "        self.list = [int(value) for value in self.list]  \n",
    "      \n",
    "    def median(self):  \n",
    "        return statistics.median(self.list)  \n",
    "      \n",
    "    def mean(self):  \n",
    "        return statistics.mean(self.list)  \n",
    "      \n",
    "    def deviation(self):  \n",
    "        return statistics.stdev(self.list)  \n",
    "    \n",
    "    def count(self):  \n",
    "        count = 0\n",
    "        for elem in self.list:\n",
    "            if elem:\n",
    "                count+=1                       \n",
    "        return count\n",
    "    \n",
    "    def unique(self):\n",
    "        return len(set(self.list))\n"
   ]
  },
  {
   "cell_type": "code",
   "execution_count": 7,
   "id": "60b25884",
   "metadata": {},
   "outputs": [
    {
     "data": {
      "text/plain": [
       "4"
      ]
     },
     "execution_count": 7,
     "metadata": {},
     "output_type": "execute_result"
    }
   ],
   "source": [
    "df = IntDataFrame([4.7, 4, 3, 0, 2.4, 0.3, 4])\n",
    "\n",
    "df.count()\n",
    "# => 5\n",
    "df.unique()\n",
    "# => 4"
   ]
  },
  {
   "cell_type": "code",
   "execution_count": 8,
   "id": "d70274e2",
   "metadata": {},
   "outputs": [
    {
     "name": "stdout",
     "output_type": "stream",
     "text": [
      "{'perfomance': [10, 20, 10], 'clients': {'Romashka': 10, 'Vector': 34}}\n"
     ]
    }
   ],
   "source": [
    "import pickle  \n",
    "from datetime import datetime  \n",
    "from os import path  \n",
    "  \n",
    "class Dumper():  \n",
    "    def __init__(self, archive_dir=\"archive/\"):  \n",
    "        self.archive_dir = archive_dir  \n",
    "          \n",
    "    def dump(self, data):  \n",
    "        # Библиотека pickle позволяет доставать и класть объекты в файл  \n",
    "        with open(self.get_file_name(), 'wb') as file:  \n",
    "            pickle.dump(data, file)  \n",
    "              \n",
    "    def load_for_day(self, day):  \n",
    "        file_name = path.join(self.archive_dir, day + \".pkl\")   \n",
    "        with open(file_name, 'rb') as file:  \n",
    "            sets = pickle.load(file)  \n",
    "        return sets  \n",
    "          \n",
    "    # возвращает корректное имя для файла   \n",
    "    def get_file_name(self):   \n",
    "        today = datetime.now().strftime(\"%y-%m-%d\")   \n",
    "        return path.join(self.archive_dir, today + \".pkl\")  \n",
    "      \n",
    "      \n",
    "# Пример использования  \n",
    "  \n",
    "data = {  \n",
    "    'perfomance': [10, 20, 10],  \n",
    "    'clients': {\"Romashka\": 10, \"Vector\": 34}  \n",
    "}  \n",
    "  \n",
    "  \n",
    "dumper = Dumper()  \n",
    "  \n",
    "# Сохраним данные  \n",
    "dumper.dump(data)  \n",
    "  \n",
    "# Восстановим для сегодняшней даты  \n",
    "file_name = datetime.now().strftime(\"%y-%m-%d\")\n",
    "restored_data = dumper.load_for_day(file_name)\n",
    "print(restored_data)  "
   ]
  },
  {
   "cell_type": "code",
   "execution_count": 9,
   "id": "26b5c80a",
   "metadata": {},
   "outputs": [],
   "source": [
    "import pandas as pd\n",
    "import numpy as np\n",
    "class OwnLogger():    \n",
    "    def __init__(self, message ='', level=''):\n",
    "        self.message = message\n",
    "        self.level = level\n",
    "        self.mess_df = pd.DataFrame({\n",
    "        'info': [],\n",
    "        'warning': [],\n",
    "        'error': [],    \n",
    "        })\n",
    "        self.last_mess = None\n",
    "        \n",
    "    def log(self, message, level):\n",
    "        if level in self.mess_df.columns:\n",
    "            message_dic = {level:message}\n",
    "            self.last_mess = message\n",
    "            self.mess_df = self.mess_df.append(message_dic, ignore_index=True)        \n",
    "\n",
    "    def show_last(self, level='all'):\n",
    "        if level in self.mess_df.columns:             \n",
    "            mess_drop = self.mess_df[level].dropna()\n",
    "            if not mess_drop.count():\n",
    "                return None  #\n",
    "            ind = mess_drop.index.max()            \n",
    "            return mess_drop[ind]   \n",
    "             \n",
    "        if level == 'all':            # не получается вывести это блок\n",
    "            return self.last_mess       \n",
    "        \n",
    "logger = OwnLogger()\n",
    "logger.log(\"System started\", \"info\")\n",
    "logger.log(\"Connection instable\", \"warning\")\n",
    "logger.show_last(\"error\")\n",
    "# => None        \n",
    "       \n",
    "        \n",
    "# logger = OwnLogger()\n",
    "# logger.log(\"System started\", \"info\")\n",
    "# logger.log(\"Connection instable\", \"warning\")\n",
    "# logger.log(\"Connection lost\", \"error\")\n",
    "# logger.log(\"System started\", \"info\")\n",
    "# logger.log(\"Connection instable\", \"warning\")\n",
    "# logger.show_last(\"info\")\n",
    "# logger.show_last()"
   ]
  },
  {
   "cell_type": "code",
   "execution_count": 11,
   "id": "763a0734",
   "metadata": {},
   "outputs": [
    {
     "name": "stdout",
     "output_type": "stream",
     "text": [
      "d:\\Work programm\\IDE\\Jupyter\\PY_14 Очистка данных\n"
     ]
    }
   ],
   "source": [
    "import os\n",
    "start_path = os.getcwd()\n",
    "print(start_path) # /home/nbuser/library"
   ]
  },
  {
   "cell_type": "code",
   "execution_count": 12,
   "id": "97681a93",
   "metadata": {},
   "outputs": [
    {
     "data": {
      "text/plain": [
       "'d:\\\\Work programm\\\\IDE\\\\Jupyter'"
      ]
     },
     "execution_count": 12,
     "metadata": {},
     "output_type": "execute_result"
    }
   ],
   "source": [
    "os.chdir(\"..\") # подняться на один уровень выше\n",
    "os.getcwd() # '/home/nbuser'"
   ]
  },
  {
   "cell_type": "code",
   "execution_count": 13,
   "id": "4a6468cd",
   "metadata": {},
   "outputs": [
    {
     "data": {
      "text/plain": [
       "'d:\\\\Work programm\\\\IDE\\\\Jupyter\\\\PY_14 Очистка данных'"
      ]
     },
     "execution_count": 13,
     "metadata": {},
     "output_type": "execute_result"
    }
   ],
   "source": [
    "os.chdir(start_path)\n",
    "os.getcwd() # '/home/nbuser/library'"
   ]
  },
  {
   "cell_type": "code",
   "execution_count": 14,
   "id": "b2955853",
   "metadata": {},
   "outputs": [
    {
     "name": "stdout",
     "output_type": "stream",
     "text": [
      "['.ipynb_checkpoints', 'archive', 'data', 'NB_Y_PY15_ООП.ipynb', 'NB_Y_PY_14_Закрепление знаний диабет.ipynb', 'NB_Y_PY_14_Сбер.ipynb']\n",
      "Файл отсутствует в данной директории\n"
     ]
    }
   ],
   "source": [
    "print(os.listdir()) # ['SnapchatLoader', 'FBLoader', 'tmp.py', '.gitignore', 'venv', '.git']\n",
    "\n",
    "if 'tmp.py' not in os.listdir():\n",
    "    print(\"Файл отсутствует в данной директории\")"
   ]
  },
  {
   "cell_type": "markdown",
   "id": "94d93635",
   "metadata": {},
   "source": [
    "**Для того чтобы склеивать пути с учётом особенностей ОС, следует использовать функцию os.path.join(). Это связано с тем, что в разных операционных системах могут быть разные разделители каталогов, например в ОС Windows этим разделителем является «\\», а в Linux — «/», как мы и говорили в начале юнита. Поэтому, чтобы поиск файла проходил гладко в обеих системах (ведь ваш скрипт могут запускать на любой системе в связи с кросс-платформенностью Python), лучше всё-таки использовать os.path.join().**"
   ]
  },
  {
   "cell_type": "code",
   "execution_count": 15,
   "id": "4d47d7ff",
   "metadata": {},
   "outputs": [
    {
     "name": "stdout",
     "output_type": "stream",
     "text": [
      "d:\\Work programm\\IDE\\Jupyter\\PY_14 Очистка данных\n",
      "d:\\Work programm\\IDE\\Jupyter\\PY_14 Очистка данных\\test\n"
     ]
    }
   ],
   "source": [
    "print(start_path)\n",
    "print(os.path.join(start_path, 'test'))"
   ]
  },
  {
   "cell_type": "markdown",
   "id": "ea6af85c",
   "metadata": {},
   "source": [
    "**Сделайте функцию, которая принимает от пользователя путь и выводит всю информацию о содержимом этой папки. Для реализации используйте функцию встроенного модуля os.walk(). Если путь не указан, то сравнение начинается с текущей директории.**"
   ]
  },
  {
   "cell_type": "code",
   "execution_count": 22,
   "id": "ec10bbb3",
   "metadata": {},
   "outputs": [
    {
     "name": "stdout",
     "output_type": "stream",
     "text": [
      "Текущая директория d:\\Work programm\\IDE\\Jupyter\\PY_14 Очистка данных\n",
      "---\n",
      "Список папок ['.ipynb_checkpoints', 'archive', 'data']\n",
      "---\n",
      "Список файлов ['NB_Y_PY15_ООП.ipynb', 'NB_Y_PY_14_Закрепление знаний диабет.ipynb', 'NB_Y_PY_14_Сбер.ipynb']\n",
      "---\n",
      "Все пути:\n",
      "Файл  d:\\Work programm\\IDE\\Jupyter\\PY_14 Очистка данных\\NB_Y_PY15_ООП.ipynb\n",
      "Файл  d:\\Work programm\\IDE\\Jupyter\\PY_14 Очистка данных\\NB_Y_PY_14_Закрепление знаний диабет.ipynb\n",
      "Файл  d:\\Work programm\\IDE\\Jupyter\\PY_14 Очистка данных\\NB_Y_PY_14_Сбер.ipynb\n",
      "Папка  d:\\Work programm\\IDE\\Jupyter\\PY_14 Очистка данных\\.ipynb_checkpoints\n",
      "Папка  d:\\Work programm\\IDE\\Jupyter\\PY_14 Очистка данных\\archive\n",
      "Папка  d:\\Work programm\\IDE\\Jupyter\\PY_14 Очистка данных\\data\n",
      "===\n",
      "Текущая директория d:\\Work programm\\IDE\\Jupyter\\PY_14 Очистка данных\\.ipynb_checkpoints\n",
      "---\n",
      "Папок нет\n",
      "---\n",
      "Список файлов ['NB_Y_PY15_ООП-checkpoint.ipynb', 'NB_Y_PY_14_Закрепление знаний диабет-checkpoint.ipynb', 'NB_Y_PY_14_Сбер-checkpoint.ipynb']\n",
      "---\n",
      "Файл  d:\\Work programm\\IDE\\Jupyter\\PY_14 Очистка данных\\.ipynb_checkpoints\\NB_Y_PY15_ООП-checkpoint.ipynb\n",
      "Файл  d:\\Work programm\\IDE\\Jupyter\\PY_14 Очистка данных\\.ipynb_checkpoints\\NB_Y_PY_14_Закрепление знаний диабет-checkpoint.ipynb\n",
      "Файл  d:\\Work programm\\IDE\\Jupyter\\PY_14 Очистка данных\\.ipynb_checkpoints\\NB_Y_PY_14_Сбер-checkpoint.ipynb\n",
      "===\n",
      "Текущая директория d:\\Work programm\\IDE\\Jupyter\\PY_14 Очистка данных\\archive\n",
      "---\n",
      "Папок нет\n",
      "---\n",
      "Список файлов ['22-04-16.pkl']\n",
      "---\n",
      "Файл  d:\\Work programm\\IDE\\Jupyter\\PY_14 Очистка данных\\archive\\22-04-16.pkl\n",
      "===\n",
      "Текущая директория d:\\Work programm\\IDE\\Jupyter\\PY_14 Очистка данных\\data\n",
      "---\n",
      "Папок нет\n",
      "---\n",
      "Список файлов ['Data_TSUM.xlsx', 'diabetes_data.csv', 'sber_data.csv']\n",
      "---\n",
      "Файл  d:\\Work programm\\IDE\\Jupyter\\PY_14 Очистка данных\\data\\Data_TSUM.xlsx\n",
      "Файл  d:\\Work programm\\IDE\\Jupyter\\PY_14 Очистка данных\\data\\diabetes_data.csv\n",
      "Файл  d:\\Work programm\\IDE\\Jupyter\\PY_14 Очистка данных\\data\\sber_data.csv\n",
      "===\n"
     ]
    }
   ],
   "source": [
    "import os\n",
    "\n",
    "def walk_desc(path=None):\n",
    "    start_path = path if path is not None else os.getcwd()\n",
    "\n",
    "    for root, dirs, files in os.walk(start_path):\n",
    "        print(\"Текущая директория\", root)\n",
    "        print(\"---\")\n",
    "\n",
    "        if dirs:\n",
    "            print(\"Список папок\", dirs)\n",
    "        else:\n",
    "            print(\"Папок нет\")\n",
    "        print(\"---\")\n",
    "\n",
    "        if files:\n",
    "            print(\"Список файлов\", files)\n",
    "        else:\n",
    "            print(\"Файлов нет\")\n",
    "        print(\"---\")\n",
    "\n",
    "        if files and dirs:\n",
    "            print(\"Все пути:\")\n",
    "        for f in files:\n",
    "            print(\"Файл \", os.path.join(root, f))\n",
    "        for d in dirs:\n",
    "            print(\"Папка \", os.path.join(root, d))\n",
    "        print(\"===\")\n",
    "\n",
    "walk_desc()"
   ]
  },
  {
   "cell_type": "code",
   "execution_count": null,
   "id": "71d511b4",
   "metadata": {},
   "outputs": [],
   "source": []
  }
 ],
 "metadata": {
  "kernelspec": {
   "display_name": "Python 3 (ipykernel)",
   "language": "python",
   "name": "python3"
  },
  "language_info": {
   "codemirror_mode": {
    "name": "ipython",
    "version": 3
   },
   "file_extension": ".py",
   "mimetype": "text/x-python",
   "name": "python",
   "nbconvert_exporter": "python",
   "pygments_lexer": "ipython3",
   "version": "3.9.7"
  }
 },
 "nbformat": 4,
 "nbformat_minor": 5
}
